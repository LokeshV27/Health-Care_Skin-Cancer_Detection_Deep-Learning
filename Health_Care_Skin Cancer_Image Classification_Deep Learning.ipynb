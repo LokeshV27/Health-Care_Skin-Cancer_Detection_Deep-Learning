{
 "cells": [
  {
   "cell_type": "code",
   "execution_count": 1,
   "metadata": {},
   "outputs": [
    {
     "name": "stderr",
     "output_type": "stream",
     "text": [
      "Using TensorFlow backend.\n"
     ]
    }
   ],
   "source": [
    "#installation of all the necessary libraries for the Skin cancer detection analysis\n",
    "import pandas as pd\n",
    "import numpy as np\n",
    "import matplotlib.image as mpimg\n",
    "from sklearn.linear_model import LogisticRegression\n",
    "from sklearn.model_selection import train_test_split\n",
    "from keras.models import Sequential\n",
    "from keras.layers import Dense, add, Activation, Dropout, MaxPooling2D, Conv2D, Flatten\n",
    "import os"
   ]
  },
  {
   "cell_type": "code",
   "execution_count": 2,
   "metadata": {},
   "outputs": [],
   "source": [
    "#Step 1: To extract all the images from the dataset, of around 10015 images split into 2 sections. Importing both the folder's\n",
    "#images\n",
    "path1 = r\"C:\\Users\\Lokesh\\Desktop\\Machine_Learning Datasets\\HealthCare_Skin Cancer\\skin-cancer-mnist-ham10000\\HAM10000_images_part_1\"\n",
    "path2 = r\"C:\\Users\\Lokesh\\Desktop\\Machine_Learning Datasets\\HealthCare_Skin Cancer\\skin-cancer-mnist-ham10000\\HAM10000_images_part_2\"\n",
    "set1 = os.listdir(path1)\n",
    "set2 = os.listdir(path2)\n",
    "s1 = set1\n",
    "s2 = set2\n",
    "for i in range(0,len(s1)):\n",
    "    s1[i] = os.path.abspath(os.path.join(path1, set1[i]))\n",
    "for i in range(0,len(s2)):\n",
    "    s2[i] = os.path.abspath(os.path.join(path2, set2[i]))"
   ]
  },
  {
   "cell_type": "code",
   "execution_count": 3,
   "metadata": {},
   "outputs": [
    {
     "name": "stdout",
     "output_type": "stream",
     "text": [
      "(450, 600, 3) (450, 600, 3) (450, 600, 3) (450, 600, 3) (450, 600, 3) (450, 600, 3) (450, 600, 3) (450, 600, 3) (450, 600, 3) (450, 600, 3)\n"
     ]
    }
   ],
   "source": [
    "#To verify all the images have the same shape as te other images\n",
    "print(mpimg.imread(s1[1]).shape,mpimg.imread(s1[1589]).shape,mpimg.imread(s1[4783]).shape,mpimg.imread(s1[3696]).shape,\n",
    "      mpimg.imread(s2[1589]).shape,mpimg.imread(s2[548]).shape,mpimg.imread(s2[1214]).shape,\n",
    "      mpimg.imread(s1[4999]).shape,mpimg.imread(s2[4999]).shape,mpimg.imread(s2[1912]).shape)"
   ]
  },
  {
   "cell_type": "code",
   "execution_count": 4,
   "metadata": {},
   "outputs": [],
   "source": [
    "#Reshaping all the images into 64 x 64 array for ease of computation in my laptop\n",
    "SK1 = np.zeros([5000, 64, 64])\n",
    "for i in range(0,len(s1)):\n",
    "    aa = mpimg.imread(s1[i])\n",
    "    SK1[i] = np.resize(aa, (64, 64))"
   ]
  },
  {
   "cell_type": "code",
   "execution_count": 5,
   "metadata": {},
   "outputs": [],
   "source": [
    "#Reshaping all the images into 64 x 64 array for ease of computation in my laptop\n",
    "SK2 = np.zeros([5015, 64, 64])\n",
    "for i in range(0,len(s2)):\n",
    "    bb = mpimg.imread(s2[i])\n",
    "    SK2[i] = np.resize(bb, (64, 64))"
   ]
  },
  {
   "cell_type": "code",
   "execution_count": 6,
   "metadata": {},
   "outputs": [],
   "source": [
    "#Reshaping the input independant variable from 3D to 4D array.\n",
    "X = np.concatenate((SK1, SK2), axis=0)\n",
    "X = X.reshape(X.shape[0], X.shape[1], X.shape[2], 1)"
   ]
  },
  {
   "cell_type": "code",
   "execution_count": 7,
   "metadata": {},
   "outputs": [],
   "source": [
    "#Importing the target variables dataset and sort the rows inorder of the images available\n",
    "labels = pd.read_csv(\"HAM10000_metadata.csv\")\n",
    "labels = labels.sort_values(by=['image_id']).reset_index().drop(columns={\"index\"})"
   ]
  },
  {
   "cell_type": "code",
   "execution_count": 8,
   "metadata": {},
   "outputs": [],
   "source": [
    "#Exploting the target dataset and we split the 5 of the available columns to be each target variable to be analyzed.\n",
    "y1 = pd.get_dummies(labels[\"dx\"], prefix='dx')\n",
    "y1 = y1.drop(columns={\"dx_df\"})\n",
    "y1 = np.array(y1)\n",
    "\n",
    "y2 = pd.get_dummies(labels[\"dx_type\"], prefix='dx_type')\n",
    "y2 = y2.drop(columns={\"dx_type_confocal\"})\n",
    "y2 = np.array(y2)\n",
    "\n",
    "y3 = pd.get_dummies(labels[\"sex\"], prefix='sex')\n",
    "y3 = y3.drop(columns={\"sex_unknown\"})\n",
    "y3 = np.array(y3)\n",
    "\n",
    "y4 = pd.get_dummies(labels[\"localization\"], prefix='lcl')\n",
    "y4 = y4.drop(columns={\"lcl_acral\"})\n",
    "y4 = np.array(y4)\n",
    "\n",
    "y5 = labels[\"age\"]\n",
    "y5 = y5.fillna(0)\n",
    "y5 = np.array(y5)"
   ]
  },
  {
   "cell_type": "markdown",
   "metadata": {},
   "source": [
    "#### The First analysis would be on the \"dx_type\" variable and we apply the Convolutional Neural Network to find the best fit approach"
   ]
  },
  {
   "cell_type": "code",
   "execution_count": 9,
   "metadata": {},
   "outputs": [
    {
     "name": "stdout",
     "output_type": "stream",
     "text": [
      "(6109, 64, 64, 1) (3906, 64, 64, 1) (6109, 3) (3906, 3)\n"
     ]
    }
   ],
   "source": [
    "#Acquiring the training and the test dataset for the dxtype modelling\n",
    "X2_train, X2_test, y2_train, y2_test = train_test_split(X, y2, test_size=0.39, random_state=42)\n",
    "print(X2_train.shape, X2_test.shape, y2_train.shape, y2_test.shape)"
   ]
  },
  {
   "cell_type": "code",
   "execution_count": 11,
   "metadata": {},
   "outputs": [],
   "source": [
    "#Building the layers of neural network to have dual convolutional layer, Maxpooling layer and 5 hidden layers.\n",
    "#The final approach is an binary classification of present or not of the 3 output variables.\n",
    "model2 = Sequential()\n",
    "model2.add(Conv2D(32, (3, 3), input_shape=(64, 64, 1), activation='relu'))\n",
    "model2.add(MaxPooling2D(pool_size=(2, 2)))\n",
    "model2.add(Conv2D(32, (3, 3), activation='relu'))\n",
    "model2.add(MaxPooling2D(pool_size=(2, 2)))\n",
    "model2.add(Flatten())\n",
    "\n",
    "model2.add(Dense(500, kernel_initializer='normal', activation='relu'))\n",
    "model2.add(Dropout(0.3))\n",
    "model2.add(Dense(243, activation='relu'))\n",
    "model2.add(Dropout(0.3))\n",
    "model2.add(Dense(81, activation='relu'))\n",
    "model2.add(Dropout(0.3))\n",
    "model2.add(Dense(27, activation='relu'))\n",
    "model2.add(Dropout(0.3))\n",
    "model2.add(Dense(9, activation='relu'))\n",
    "model2.add(Dropout(0.3))\n",
    "model2.add(Dense(3, activation='sigmoid'))\n",
    "\n",
    "model2.compile(loss='binary_crossentropy', optimizer='adam', metrics=['accuracy'])"
   ]
  },
  {
   "cell_type": "code",
   "execution_count": 12,
   "metadata": {
    "scrolled": true
   },
   "outputs": [
    {
     "name": "stdout",
     "output_type": "stream",
     "text": [
      "Train on 4887 samples, validate on 1222 samples\n",
      "Epoch 1/50\n",
      "4887/4887 [==============================] - 31s 6ms/step - loss: 2.1529 - acc: 0.6375 - val_loss: 0.6839 - val_acc: 0.6882\n",
      "Epoch 2/50\n",
      "4887/4887 [==============================] - 31s 6ms/step - loss: 0.6530 - acc: 0.6722 - val_loss: 0.6575 - val_acc: 0.6882\n",
      "Epoch 3/50\n",
      "4887/4887 [==============================] - 29s 6ms/step - loss: 0.6615 - acc: 0.6834 - val_loss: 0.6382 - val_acc: 0.6879\n",
      "Epoch 4/50\n",
      "4887/4887 [==============================] - 29s 6ms/step - loss: 0.6366 - acc: 0.6857 - val_loss: 0.6200 - val_acc: 0.6882\n",
      "Epoch 5/50\n",
      "4887/4887 [==============================] - 29s 6ms/step - loss: 0.6207 - acc: 0.6871 - val_loss: 0.6030 - val_acc: 0.6882\n",
      "Epoch 6/50\n",
      "4887/4887 [==============================] - 29s 6ms/step - loss: 0.6020 - acc: 0.6900 - val_loss: 0.5743 - val_acc: 0.6882\n",
      "Epoch 7/50\n",
      "4887/4887 [==============================] - 29s 6ms/step - loss: 0.5852 - acc: 0.6903 - val_loss: 0.5591 - val_acc: 0.6882\n",
      "Epoch 8/50\n",
      "4887/4887 [==============================] - 29s 6ms/step - loss: 0.5795 - acc: 0.6892 - val_loss: 0.5498 - val_acc: 0.6882\n",
      "Epoch 9/50\n",
      "4887/4887 [==============================] - 29s 6ms/step - loss: 0.5686 - acc: 0.6944 - val_loss: 0.5390 - val_acc: 0.6882\n",
      "Epoch 10/50\n",
      "4887/4887 [==============================] - 29s 6ms/step - loss: 0.5602 - acc: 0.6961 - val_loss: 0.5656 - val_acc: 0.6792\n",
      "Epoch 11/50\n",
      "4887/4887 [==============================] - 29s 6ms/step - loss: 0.5630 - acc: 0.6917 - val_loss: 0.5350 - val_acc: 0.7111\n",
      "Epoch 12/50\n",
      "4887/4887 [==============================] - 29s 6ms/step - loss: 0.5444 - acc: 0.7070 - val_loss: 0.5335 - val_acc: 0.7098\n",
      "Epoch 13/50\n",
      "4887/4887 [==============================] - 29s 6ms/step - loss: 0.5443 - acc: 0.7052 - val_loss: 0.5250 - val_acc: 0.7117\n",
      "Epoch 14/50\n",
      "4887/4887 [==============================] - 29s 6ms/step - loss: 0.5457 - acc: 0.7070 - val_loss: 0.5465 - val_acc: 0.6989\n",
      "Epoch 15/50\n",
      "4887/4887 [==============================] - 29s 6ms/step - loss: 0.5349 - acc: 0.7073 - val_loss: 0.4661 - val_acc: 0.7706\n",
      "Epoch 16/50\n",
      "4887/4887 [==============================] - 29s 6ms/step - loss: 0.4842 - acc: 0.7682 - val_loss: 0.4161 - val_acc: 0.8704\n",
      "Epoch 17/50\n",
      "4887/4887 [==============================] - 29s 6ms/step - loss: 0.4266 - acc: 0.8309 - val_loss: 0.3688 - val_acc: 0.8920\n",
      "Epoch 18/50\n",
      "4887/4887 [==============================] - 29s 6ms/step - loss: 0.4040 - acc: 0.8484 - val_loss: 0.3258 - val_acc: 0.8909\n",
      "Epoch 19/50\n",
      "4887/4887 [==============================] - 29s 6ms/step - loss: 0.3896 - acc: 0.8600 - val_loss: 0.3071 - val_acc: 0.8939\n",
      "Epoch 20/50\n",
      "4887/4887 [==============================] - 29s 6ms/step - loss: 0.3686 - acc: 0.8705 - val_loss: 0.3104 - val_acc: 0.8879\n",
      "Epoch 21/50\n",
      "4887/4887 [==============================] - 29s 6ms/step - loss: 0.3628 - acc: 0.8737 - val_loss: 0.3074 - val_acc: 0.9023\n",
      "Epoch 22/50\n",
      "4887/4887 [==============================] - 29s 6ms/step - loss: 0.3645 - acc: 0.8774 - val_loss: 0.3064 - val_acc: 0.8977\n",
      "Epoch 23/50\n",
      "4887/4887 [==============================] - 29s 6ms/step - loss: 0.3325 - acc: 0.8850 - val_loss: 0.2875 - val_acc: 0.9062\n",
      "Epoch 24/50\n",
      "4887/4887 [==============================] - 29s 6ms/step - loss: 0.3326 - acc: 0.8848 - val_loss: 0.2944 - val_acc: 0.9051\n",
      "Epoch 25/50\n",
      "4887/4887 [==============================] - 29s 6ms/step - loss: 0.3142 - acc: 0.8917 - val_loss: 0.2800 - val_acc: 0.9056\n",
      "Epoch 26/50\n",
      "4887/4887 [==============================] - 29s 6ms/step - loss: 0.3118 - acc: 0.8911 - val_loss: 0.3155 - val_acc: 0.8942\n",
      "Epoch 27/50\n",
      "4887/4887 [==============================] - 29s 6ms/step - loss: 0.3151 - acc: 0.8915 - val_loss: 0.2862 - val_acc: 0.9015\n",
      "Epoch 28/50\n",
      "4887/4887 [==============================] - 29s 6ms/step - loss: 0.3022 - acc: 0.8961 - val_loss: 0.2898 - val_acc: 0.9045\n",
      "Epoch 29/50\n",
      "4887/4887 [==============================] - 29s 6ms/step - loss: 0.2918 - acc: 0.8999 - val_loss: 0.2745 - val_acc: 0.9043\n",
      "Epoch 30/50\n",
      "4887/4887 [==============================] - 29s 6ms/step - loss: 0.2805 - acc: 0.9047 - val_loss: 0.2805 - val_acc: 0.9056\n",
      "Epoch 31/50\n",
      "4887/4887 [==============================] - 29s 6ms/step - loss: 0.2737 - acc: 0.9076 - val_loss: 0.2722 - val_acc: 0.9067\n",
      "Epoch 32/50\n",
      "4887/4887 [==============================] - 29s 6ms/step - loss: 0.2822 - acc: 0.9074 - val_loss: 0.2715 - val_acc: 0.9032\n",
      "Epoch 33/50\n",
      "4887/4887 [==============================] - 29s 6ms/step - loss: 0.2725 - acc: 0.9073 - val_loss: 0.2748 - val_acc: 0.9018\n",
      "Epoch 34/50\n",
      "4887/4887 [==============================] - 29s 6ms/step - loss: 0.2801 - acc: 0.9101 - val_loss: 0.2885 - val_acc: 0.8933\n",
      "Epoch 35/50\n",
      "4887/4887 [==============================] - 29s 6ms/step - loss: 0.2671 - acc: 0.9119 - val_loss: 0.2693 - val_acc: 0.9043\n",
      "Epoch 36/50\n",
      "4887/4887 [==============================] - 29s 6ms/step - loss: 0.2653 - acc: 0.9128 - val_loss: 0.2734 - val_acc: 0.9053\n",
      "Epoch 37/50\n",
      "4887/4887 [==============================] - 29s 6ms/step - loss: 0.2923 - acc: 0.9038 - val_loss: 0.3877 - val_acc: 0.8742\n",
      "Epoch 38/50\n",
      "4887/4887 [==============================] - 29s 6ms/step - loss: 0.2986 - acc: 0.9044 - val_loss: 0.2802 - val_acc: 0.9056\n",
      "Epoch 39/50\n",
      "4887/4887 [==============================] - 29s 6ms/step - loss: 0.2789 - acc: 0.9103 - val_loss: 0.3093 - val_acc: 0.8963\n",
      "Epoch 40/50\n",
      "4887/4887 [==============================] - 29s 6ms/step - loss: 0.2714 - acc: 0.9149 - val_loss: 0.3015 - val_acc: 0.8985\n",
      "Epoch 41/50\n",
      "4887/4887 [==============================] - 29s 6ms/step - loss: 0.2672 - acc: 0.9145 - val_loss: 0.2685 - val_acc: 0.9081\n",
      "Epoch 42/50\n",
      "4887/4887 [==============================] - 29s 6ms/step - loss: 0.2578 - acc: 0.9166 - val_loss: 0.2995 - val_acc: 0.9002\n",
      "Epoch 43/50\n",
      "4887/4887 [==============================] - 29s 6ms/step - loss: 0.2461 - acc: 0.9203 - val_loss: 0.2982 - val_acc: 0.8991\n",
      "Epoch 44/50\n",
      "4887/4887 [==============================] - 30s 6ms/step - loss: 0.2415 - acc: 0.9201 - val_loss: 0.2765 - val_acc: 0.9062\n",
      "Epoch 45/50\n",
      "4887/4887 [==============================] - 30s 6ms/step - loss: 0.2483 - acc: 0.9182 - val_loss: 0.2741 - val_acc: 0.9064\n",
      "Epoch 46/50\n",
      "4887/4887 [==============================] - 29s 6ms/step - loss: 0.2300 - acc: 0.9252 - val_loss: 0.2769 - val_acc: 0.9034\n",
      "Epoch 47/50\n",
      "4887/4887 [==============================] - 30s 6ms/step - loss: 0.2285 - acc: 0.9225 - val_loss: 0.2861 - val_acc: 0.9048\n",
      "Epoch 48/50\n",
      "4887/4887 [==============================] - 30s 6ms/step - loss: 0.2312 - acc: 0.9233 - val_loss: 0.3095 - val_acc: 0.8996\n",
      "Epoch 49/50\n",
      "4887/4887 [==============================] - 29s 6ms/step - loss: 0.2434 - acc: 0.9180 - val_loss: 0.2861 - val_acc: 0.9053\n",
      "Epoch 50/50\n",
      "4887/4887 [==============================] - 29s 6ms/step - loss: 0.2274 - acc: 0.9235 - val_loss: 0.2740 - val_acc: 0.9075\n"
     ]
    }
   ],
   "source": [
    "# Model Fit\n",
    "H2 = model2.fit(X2_train, y2_train, epochs=50, batch_size=100, verbose=1, validation_split=0.2)"
   ]
  },
  {
   "cell_type": "code",
   "execution_count": 19,
   "metadata": {},
   "outputs": [
    {
     "name": "stdout",
     "output_type": "stream",
     "text": [
      "The accuracy of the model: 0.8673030138015747\n",
      "3906/3906 [==============================] - 9s 2ms/step\n",
      "The score and accuracy of the model :  [0.2568029797713702, 0.9193548416395524]\n"
     ]
    }
   ],
   "source": [
    "# The test accuracy of the model built is 91.9%, with the predicted value against the test value hovering over 85%\n",
    "y2_pred = model2.predict(X2_test)\n",
    "print(\"The accuracy of the model:\", (1-np.mean(np.abs(y2_pred-y2_test))))\n",
    "print(\"The score and accuracy of the model : \", model2.evaluate(X2_test, y2_test))"
   ]
  },
  {
   "cell_type": "code",
   "execution_count": 15,
   "metadata": {},
   "outputs": [
    {
     "data": {
      "image/png": "[encoded data removed]",
      "text/plain": [
       "<Figure size 1080x360 with 2 Axes>"
      ]
     },
     "metadata": {
      "needs_background": "light"
     },
     "output_type": "display_data"
    }
   ],
   "source": [
    "import matplotlib.pyplot as plt\n",
    "plt.figure(figsize=(15,5))\n",
    "plt.subplot(1,2,1)\n",
    "plt.plot(H2.history[\"loss\"], label='train')\n",
    "plt.plot(H2.history[\"val_loss\"], label='validation')\n",
    "plt.xlabel('epochs')\n",
    "plt.ylabel('loss function')\n",
    "plt.legend(loc='upper left')\n",
    "plt.subplot(1,2,2)\n",
    "plt.plot(H2.history[\"acc\"], label='train')\n",
    "plt.plot(H2.history[\"val_acc\"], label='validation')\n",
    "plt.xlabel('epochs')\n",
    "plt.ylabel('accuracy function')\n",
    "plt.legend(loc='upper left')\n",
    "plt.show()"
   ]
  },
  {
   "cell_type": "markdown",
   "metadata": {},
   "source": [
    "#### The Second analysis would be on the \"gender\" variable and we apply the Convolutional Neural Network to find the best fit approach"
   ]
  },
  {
   "cell_type": "code",
   "execution_count": 16,
   "metadata": {},
   "outputs": [
    {
     "name": "stdout",
     "output_type": "stream",
     "text": [
      "(6109, 64, 64, 1) (3906, 64, 64, 1) (6109, 2) (3906, 2)\n"
     ]
    }
   ],
   "source": [
    "#Acquiring the training and the test dataset for the gender modelling\n",
    "X3_train, X3_test, y3_train, y3_test = train_test_split(X, y3, test_size=0.39, random_state=42)\n",
    "print(X3_train.shape, X3_test.shape, y3_train.shape, y3_test.shape)"
   ]
  },
  {
   "cell_type": "code",
   "execution_count": 17,
   "metadata": {},
   "outputs": [],
   "source": [
    "#Building the layers of neural network to have dual convolutional layer, Maxpooling layer and 3 hidden layers.\n",
    "#The final approach is an binary classification of present or not of the 2 output variables.\n",
    "model3 = Sequential()\n",
    "model3.add(Conv2D(32, (3, 3), input_shape=(64, 64, 1), activation='relu'))\n",
    "model3.add(MaxPooling2D(pool_size=(2, 2)))\n",
    "model3.add(Conv2D(32, (3, 3), activation='relu'))\n",
    "model3.add(MaxPooling2D(pool_size=(2, 2)))\n",
    "model3.add(Flatten())\n",
    "\n",
    "model3.add(Dense(100, activation='relu'))\n",
    "model3.add(Dropout(0.1))\n",
    "model3.add(Dense(40, activation='relu'))\n",
    "model3.add(Dropout(0.1))\n",
    "model3.add(Dense(20, activation='relu'))\n",
    "model3.add(Dropout(0.1))\n",
    "model3.add(Dense(2, activation='sigmoid'))\n",
    "\n",
    "model3.compile(loss='binary_crossentropy', optimizer='adam', metrics=['accuracy'])"
   ]
  },
  {
   "cell_type": "code",
   "execution_count": 18,
   "metadata": {
    "scrolled": true
   },
   "outputs": [
    {
     "name": "stdout",
     "output_type": "stream",
     "text": [
      "Train on 4887 samples, validate on 1222 samples\n",
      "Epoch 1/50\n",
      "4887/4887 [==============================] - 27s 6ms/step - loss: 7.3392 - acc: 0.5349 - val_loss: 7.1491 - val_acc: 0.5540\n",
      "Epoch 2/50\n",
      "4887/4887 [==============================] - 26s 5ms/step - loss: 6.9226 - acc: 0.5386 - val_loss: 0.7856 - val_acc: 0.4775\n",
      "Epoch 3/50\n",
      "4887/4887 [==============================] - 26s 5ms/step - loss: 0.7000 - acc: 0.5382 - val_loss: 0.6888 - val_acc: 0.5499\n",
      "Epoch 4/50\n",
      "4887/4887 [==============================] - 26s 5ms/step - loss: 0.6896 - acc: 0.5425 - val_loss: 0.6877 - val_acc: 0.5536\n",
      "Epoch 5/50\n",
      "4887/4887 [==============================] - 26s 5ms/step - loss: 0.6893 - acc: 0.5436 - val_loss: 0.6876 - val_acc: 0.5532\n",
      "Epoch 6/50\n",
      "4887/4887 [==============================] - 26s 5ms/step - loss: 0.6891 - acc: 0.5438 - val_loss: 0.6878 - val_acc: 0.5524\n",
      "Epoch 7/50\n",
      "4887/4887 [==============================] - 26s 5ms/step - loss: 0.6888 - acc: 0.5444 - val_loss: 0.6877 - val_acc: 0.5536\n",
      "Epoch 8/50\n",
      "4887/4887 [==============================] - 26s 5ms/step - loss: 0.6887 - acc: 0.5439 - val_loss: 0.6878 - val_acc: 0.5532\n",
      "Epoch 9/50\n",
      "4887/4887 [==============================] - 26s 5ms/step - loss: 0.6887 - acc: 0.5440 - val_loss: 0.6879 - val_acc: 0.5540\n",
      "Epoch 10/50\n",
      "4887/4887 [==============================] - 26s 5ms/step - loss: 0.6889 - acc: 0.5446 - val_loss: 0.6898 - val_acc: 0.5516\n",
      "Epoch 11/50\n",
      "4887/4887 [==============================] - 26s 5ms/step - loss: 0.6889 - acc: 0.5443 - val_loss: 0.6874 - val_acc: 0.5540\n",
      "Epoch 12/50\n",
      "4887/4887 [==============================] - 26s 5ms/step - loss: 0.6889 - acc: 0.5435 - val_loss: 0.6877 - val_acc: 0.5532\n",
      "Epoch 13/50\n",
      "4887/4887 [==============================] - 26s 5ms/step - loss: 0.6901 - acc: 0.5440 - val_loss: 0.6878 - val_acc: 0.5540\n",
      "Epoch 14/50\n",
      "4887/4887 [==============================] - 26s 5ms/step - loss: 0.6890 - acc: 0.5436 - val_loss: 0.6882 - val_acc: 0.5532\n",
      "Epoch 15/50\n",
      "4887/4887 [==============================] - 27s 5ms/step - loss: 0.6885 - acc: 0.5450 - val_loss: 0.6890 - val_acc: 0.5528\n",
      "Epoch 16/50\n",
      "4887/4887 [==============================] - 26s 5ms/step - loss: 0.6880 - acc: 0.5443 - val_loss: 0.6882 - val_acc: 0.5520\n",
      "Epoch 17/50\n",
      "4887/4887 [==============================] - 26s 5ms/step - loss: 0.6881 - acc: 0.5442 - val_loss: 0.6879 - val_acc: 0.5503\n",
      "Epoch 18/50\n",
      "4887/4887 [==============================] - 26s 5ms/step - loss: 0.6880 - acc: 0.5452 - val_loss: 0.6878 - val_acc: 0.5499\n",
      "Epoch 19/50\n",
      "4887/4887 [==============================] - 26s 5ms/step - loss: 0.6881 - acc: 0.5443 - val_loss: 0.6893 - val_acc: 0.5507\n",
      "Epoch 20/50\n",
      "4887/4887 [==============================] - 28s 6ms/step - loss: 0.6885 - acc: 0.5440 - val_loss: 0.6892 - val_acc: 0.5536\n",
      "Epoch 21/50\n",
      "4887/4887 [==============================] - 27s 6ms/step - loss: 0.6881 - acc: 0.5443 - val_loss: 0.6896 - val_acc: 0.5516\n",
      "Epoch 22/50\n",
      "4887/4887 [==============================] - 26s 5ms/step - loss: 0.6882 - acc: 0.5458 - val_loss: 0.6891 - val_acc: 0.5499\n",
      "Epoch 23/50\n",
      "4887/4887 [==============================] - 26s 5ms/step - loss: 0.6879 - acc: 0.5445 - val_loss: 0.6896 - val_acc: 0.5544\n",
      "Epoch 24/50\n",
      "4887/4887 [==============================] - 26s 5ms/step - loss: 0.6879 - acc: 0.5454 - val_loss: 0.6910 - val_acc: 0.5495\n",
      "Epoch 25/50\n",
      "4887/4887 [==============================] - 26s 5ms/step - loss: 0.6870 - acc: 0.5459 - val_loss: 0.6908 - val_acc: 0.5544\n",
      "Epoch 26/50\n",
      "4887/4887 [==============================] - 26s 5ms/step - loss: 0.6874 - acc: 0.5447 - val_loss: 0.6881 - val_acc: 0.5556\n",
      "Epoch 27/50\n",
      "4887/4887 [==============================] - 26s 5ms/step - loss: 0.6867 - acc: 0.5468 - val_loss: 0.7009 - val_acc: 0.5499\n",
      "Epoch 28/50\n",
      "4887/4887 [==============================] - 26s 5ms/step - loss: 0.7329 - acc: 0.5445 - val_loss: 0.6887 - val_acc: 0.5548\n",
      "Epoch 29/50\n",
      "4887/4887 [==============================] - 26s 5ms/step - loss: 0.6885 - acc: 0.5437 - val_loss: 0.6915 - val_acc: 0.5536\n",
      "Epoch 30/50\n",
      "4887/4887 [==============================] - 27s 6ms/step - loss: 0.6881 - acc: 0.5437 - val_loss: 0.6910 - val_acc: 0.5532\n",
      "Epoch 31/50\n",
      "4887/4887 [==============================] - 26s 5ms/step - loss: 0.6876 - acc: 0.5444 - val_loss: 0.6911 - val_acc: 0.5528\n",
      "Epoch 32/50\n",
      "4887/4887 [==============================] - 26s 5ms/step - loss: 0.6881 - acc: 0.5430 - val_loss: 0.6902 - val_acc: 0.5540\n",
      "Epoch 33/50\n",
      "4887/4887 [==============================] - 26s 5ms/step - loss: 0.6877 - acc: 0.5447 - val_loss: 0.6915 - val_acc: 0.5536\n",
      "Epoch 34/50\n",
      "4887/4887 [==============================] - 26s 5ms/step - loss: 0.6886 - acc: 0.5441 - val_loss: 0.6927 - val_acc: 0.5536\n",
      "Epoch 35/50\n",
      "4887/4887 [==============================] - 26s 5ms/step - loss: 0.6871 - acc: 0.5448 - val_loss: 0.6935 - val_acc: 0.5528\n",
      "Epoch 36/50\n",
      "4887/4887 [==============================] - 26s 5ms/step - loss: 0.6880 - acc: 0.5452 - val_loss: 0.6884 - val_acc: 0.5536\n",
      "Epoch 37/50\n",
      "4887/4887 [==============================] - 26s 5ms/step - loss: 0.6880 - acc: 0.5442 - val_loss: 0.6943 - val_acc: 0.5532\n",
      "Epoch 38/50\n",
      "4887/4887 [==============================] - 26s 5ms/step - loss: 0.6867 - acc: 0.5470 - val_loss: 0.6932 - val_acc: 0.5540\n",
      "Epoch 39/50\n",
      "4887/4887 [==============================] - 26s 5ms/step - loss: 0.6866 - acc: 0.5451 - val_loss: 0.6954 - val_acc: 0.5516\n",
      "Epoch 40/50\n",
      "4887/4887 [==============================] - 26s 5ms/step - loss: 0.6870 - acc: 0.5459 - val_loss: 0.6992 - val_acc: 0.5536\n",
      "Epoch 41/50\n",
      "4887/4887 [==============================] - 26s 5ms/step - loss: 0.6872 - acc: 0.5466 - val_loss: 0.6930 - val_acc: 0.5524\n",
      "Epoch 42/50\n",
      "4887/4887 [==============================] - 26s 5ms/step - loss: 0.6868 - acc: 0.5460 - val_loss: 0.6894 - val_acc: 0.5528\n",
      "Epoch 43/50\n",
      "4887/4887 [==============================] - 26s 5ms/step - loss: 0.6874 - acc: 0.5457 - val_loss: 0.6922 - val_acc: 0.5524\n",
      "Epoch 44/50\n",
      "4887/4887 [==============================] - 26s 5ms/step - loss: 0.6861 - acc: 0.5466 - val_loss: 0.7014 - val_acc: 0.5528\n",
      "Epoch 45/50\n",
      "4887/4887 [==============================] - 26s 5ms/step - loss: 0.6867 - acc: 0.5451 - val_loss: 0.6928 - val_acc: 0.5532\n",
      "Epoch 46/50\n",
      "4887/4887 [==============================] - 26s 5ms/step - loss: 0.6873 - acc: 0.5457 - val_loss: 0.6920 - val_acc: 0.5532\n",
      "Epoch 47/50\n",
      "4887/4887 [==============================] - 26s 5ms/step - loss: 0.6858 - acc: 0.5467 - val_loss: 0.6960 - val_acc: 0.5528\n",
      "Epoch 48/50\n",
      "4887/4887 [==============================] - 26s 5ms/step - loss: 0.6855 - acc: 0.5473 - val_loss: 0.6947 - val_acc: 0.5524\n",
      "Epoch 49/50\n",
      "4887/4887 [==============================] - 26s 5ms/step - loss: 0.6840 - acc: 0.5478 - val_loss: 0.6930 - val_acc: 0.5536\n",
      "Epoch 50/50\n",
      "4887/4887 [==============================] - 26s 5ms/step - loss: 0.6866 - acc: 0.5484 - val_loss: 0.6943 - val_acc: 0.5520\n"
     ]
    }
   ],
   "source": [
    "# Model Fit\n",
    "H3 = model3.fit(X3_train, y3_train, epochs=50, batch_size=100, verbose=1, validation_split=0.2)"
   ]
  },
  {
   "cell_type": "code",
   "execution_count": 21,
   "metadata": {},
   "outputs": [
    {
     "name": "stdout",
     "output_type": "stream",
     "text": [
      "The accuracy of the model: 0.5036745369434357\n",
      "3906/3906 [==============================] - 8s 2ms/step\n",
      "The score and accuracy of the model :  [0.6932833695863371, 0.536610343061956]\n"
     ]
    }
   ],
   "source": [
    "# The test accuracy of the model built is 53.6%, with the predicted value against the test value hovering over 50%\n",
    "y3_pred = model3.predict(X3_test)\n",
    "print(\"The accuracy of the model:\", (1-np.mean(np.abs(y3_pred-y3_test))))\n",
    "print(\"The score and accuracy of the model : \", model3.evaluate(X3_test, y3_test))"
   ]
  },
  {
   "cell_type": "code",
   "execution_count": 22,
   "metadata": {},
   "outputs": [
    {
     "data": {
      "image/png": "[encoded data removed]",
      "text/plain": [
       "<Figure size 1080x360 with 2 Axes>"
      ]
     },
     "metadata": {
      "needs_background": "light"
     },
     "output_type": "display_data"
    }
   ],
   "source": [
    "import matplotlib.pyplot as plt\n",
    "plt.figure(figsize=(15,5))\n",
    "plt.subplot(1,2,1)\n",
    "plt.plot(H3.history[\"loss\"], label='train')\n",
    "plt.plot(H3.history[\"val_loss\"], label='validation')\n",
    "plt.xlabel('epochs')\n",
    "plt.ylabel('loss function')\n",
    "plt.legend(loc='upper left')\n",
    "plt.subplot(1,2,2)\n",
    "plt.plot(H3.history[\"acc\"], label='train')\n",
    "plt.plot(H3.history[\"val_acc\"], label='validation')\n",
    "plt.xlabel('epochs')\n",
    "plt.ylabel('accuracy function')\n",
    "plt.legend(loc='upper left')\n",
    "plt.show()"
   ]
  },
  {
   "cell_type": "markdown",
   "metadata": {},
   "source": [
    "#### The Third analysis would be on the \"localization of cancer\" variable and we apply the Convolutional Neural Network to find the best fit approach"
   ]
  },
  {
   "cell_type": "code",
   "execution_count": 23,
   "metadata": {},
   "outputs": [
    {
     "name": "stdout",
     "output_type": "stream",
     "text": [
      "(6109, 64, 64, 1) (3906, 64, 64, 1) (6109, 14) (3906, 14)\n"
     ]
    }
   ],
   "source": [
    "#Acquiring the training and the test dataset for the cancer localization modelling\n",
    "X4_train, X4_test, y4_train, y4_test = train_test_split(X, y4, test_size=0.39, random_state=42)\n",
    "print(X4_train.shape, X4_test.shape, y4_train.shape, y4_test.shape)"
   ]
  },
  {
   "cell_type": "code",
   "execution_count": 24,
   "metadata": {},
   "outputs": [],
   "source": [
    "#Building the layers of neural network to have dual convolutional layer, Maxpooling layer and 3 hidden layers.\n",
    "#The final approach is an binary classification of present or not of the 14 output variables.\n",
    "model4 = Sequential()\n",
    "model4.add(Conv2D(32, (3, 3), input_shape=(64, 64, 1), activation='relu'))\n",
    "model4.add(MaxPooling2D(pool_size=(2, 2)))\n",
    "model4.add(Conv2D(32, (3, 3), activation='relu'))\n",
    "model4.add(MaxPooling2D(pool_size=(2, 2)))\n",
    "model4.add(Flatten())\n",
    "\n",
    "model4.add(Dense(100, activation='relu'))\n",
    "model4.add(Dropout(0.1))\n",
    "model4.add(Dense(40, activation='relu'))\n",
    "model4.add(Dropout(0.1))\n",
    "model4.add(Dense(20, activation='relu'))\n",
    "model4.add(Dropout(0.1))\n",
    "model4.add(Dense(14, activation='sigmoid'))\n",
    "\n",
    "model4.compile(loss='binary_crossentropy', optimizer='adam', metrics=['accuracy'])"
   ]
  },
  {
   "cell_type": "code",
   "execution_count": 25,
   "metadata": {
    "scrolled": true
   },
   "outputs": [
    {
     "name": "stdout",
     "output_type": "stream",
     "text": [
      "Train on 4887 samples, validate on 1222 samples\n",
      "Epoch 1/50\n",
      "4887/4887 [==============================] - 27s 6ms/step - loss: 1.0130 - acc: 0.7897 - val_loss: 0.2954 - val_acc: 0.9281\n",
      "Epoch 2/50\n",
      "4887/4887 [==============================] - 26s 5ms/step - loss: 0.3303 - acc: 0.8835 - val_loss: 0.2499 - val_acc: 0.9286\n",
      "Epoch 3/50\n",
      "4887/4887 [==============================] - 26s 5ms/step - loss: 0.2861 - acc: 0.9080 - val_loss: 0.2372 - val_acc: 0.9286\n",
      "Epoch 4/50\n",
      "4887/4887 [==============================] - 26s 5ms/step - loss: 0.2641 - acc: 0.9199 - val_loss: 0.2312 - val_acc: 0.9286\n",
      "Epoch 5/50\n",
      "4887/4887 [==============================] - 26s 5ms/step - loss: 0.2539 - acc: 0.9233 - val_loss: 0.2278 - val_acc: 0.9286\n",
      "Epoch 6/50\n",
      "4887/4887 [==============================] - 26s 5ms/step - loss: 0.2462 - acc: 0.9252 - val_loss: 0.2261 - val_acc: 0.9286\n",
      "Epoch 7/50\n",
      "4887/4887 [==============================] - 26s 5ms/step - loss: 0.2429 - acc: 0.9257 - val_loss: 0.2250 - val_acc: 0.9286\n",
      "Epoch 8/50\n",
      "4887/4887 [==============================] - 26s 5ms/step - loss: 0.2396 - acc: 0.9263 - val_loss: 0.2254 - val_acc: 0.9286\n",
      "Epoch 9/50\n",
      "4887/4887 [==============================] - 27s 6ms/step - loss: 0.2380 - acc: 0.9272 - val_loss: 0.2240 - val_acc: 0.9286\n",
      "Epoch 10/50\n",
      "4887/4887 [==============================] - 26s 5ms/step - loss: 0.2362 - acc: 0.9279 - val_loss: 0.2258 - val_acc: 0.9286\n",
      "Epoch 11/50\n",
      "4887/4887 [==============================] - 26s 5ms/step - loss: 0.2338 - acc: 0.9284 - val_loss: 0.2260 - val_acc: 0.9286\n",
      "Epoch 12/50\n",
      "4887/4887 [==============================] - 26s 5ms/step - loss: 0.2323 - acc: 0.9285 - val_loss: 0.2240 - val_acc: 0.9286\n",
      "Epoch 13/50\n",
      "4887/4887 [==============================] - 26s 5ms/step - loss: 0.2315 - acc: 0.9285 - val_loss: 0.2227 - val_acc: 0.9286\n",
      "Epoch 14/50\n",
      "4887/4887 [==============================] - 26s 5ms/step - loss: 0.2307 - acc: 0.9286 - val_loss: 0.2253 - val_acc: 0.9286\n",
      "Epoch 15/50\n",
      "4887/4887 [==============================] - 26s 5ms/step - loss: 0.2296 - acc: 0.9286 - val_loss: 0.2243 - val_acc: 0.9286\n",
      "Epoch 16/50\n",
      "4887/4887 [==============================] - 26s 5ms/step - loss: 0.2301 - acc: 0.9286 - val_loss: 0.2225 - val_acc: 0.9286\n",
      "Epoch 17/50\n",
      "4887/4887 [==============================] - 26s 5ms/step - loss: 0.2284 - acc: 0.9286 - val_loss: 0.2230 - val_acc: 0.9286\n",
      "Epoch 18/50\n",
      "4887/4887 [==============================] - 26s 5ms/step - loss: 0.2285 - acc: 0.9287 - val_loss: 0.2229 - val_acc: 0.9286\n",
      "Epoch 19/50\n",
      "4887/4887 [==============================] - 26s 5ms/step - loss: 0.2279 - acc: 0.9286 - val_loss: 0.2218 - val_acc: 0.9286\n",
      "Epoch 20/50\n",
      "4887/4887 [==============================] - 27s 6ms/step - loss: 0.2277 - acc: 0.9286 - val_loss: 0.2227 - val_acc: 0.9286\n",
      "Epoch 21/50\n",
      "4887/4887 [==============================] - 26s 5ms/step - loss: 0.2272 - acc: 0.9286 - val_loss: 0.2220 - val_acc: 0.9286\n",
      "Epoch 22/50\n",
      "4887/4887 [==============================] - 26s 5ms/step - loss: 0.2272 - acc: 0.9287 - val_loss: 0.2224 - val_acc: 0.9286\n",
      "Epoch 23/50\n",
      "4887/4887 [==============================] - 26s 5ms/step - loss: 0.2254 - acc: 0.9286 - val_loss: 0.2224 - val_acc: 0.9286\n",
      "Epoch 24/50\n",
      "4887/4887 [==============================] - 26s 5ms/step - loss: 0.2253 - acc: 0.9286 - val_loss: 0.2219 - val_acc: 0.9286\n",
      "Epoch 25/50\n",
      "4887/4887 [==============================] - 26s 5ms/step - loss: 0.2256 - acc: 0.9287 - val_loss: 0.2231 - val_acc: 0.9286\n",
      "Epoch 26/50\n",
      "4887/4887 [==============================] - 26s 5ms/step - loss: 0.2260 - acc: 0.9286 - val_loss: 0.2208 - val_acc: 0.9286\n",
      "Epoch 27/50\n",
      "4887/4887 [==============================] - 26s 5ms/step - loss: 0.2256 - acc: 0.9287 - val_loss: 0.2208 - val_acc: 0.9285\n",
      "Epoch 28/50\n",
      "4887/4887 [==============================] - 26s 5ms/step - loss: 0.2237 - acc: 0.9287 - val_loss: 0.2200 - val_acc: 0.9285\n",
      "Epoch 29/50\n",
      "4887/4887 [==============================] - 26s 5ms/step - loss: 0.2232 - acc: 0.9286 - val_loss: 0.2209 - val_acc: 0.9285\n",
      "Epoch 30/50\n",
      "4887/4887 [==============================] - 26s 5ms/step - loss: 0.2230 - acc: 0.9287 - val_loss: 0.2198 - val_acc: 0.9285\n",
      "Epoch 31/50\n",
      "4887/4887 [==============================] - 26s 5ms/step - loss: 0.2215 - acc: 0.9286 - val_loss: 0.2193 - val_acc: 0.9285\n",
      "Epoch 32/50\n",
      "4887/4887 [==============================] - 27s 5ms/step - loss: 0.2224 - acc: 0.9287 - val_loss: 0.2198 - val_acc: 0.9284\n",
      "Epoch 33/50\n",
      "4887/4887 [==============================] - 26s 5ms/step - loss: 0.2204 - acc: 0.9287 - val_loss: 0.2181 - val_acc: 0.9285\n",
      "Epoch 34/50\n",
      "4887/4887 [==============================] - 26s 5ms/step - loss: 0.2204 - acc: 0.9288 - val_loss: 0.2187 - val_acc: 0.9285\n",
      "Epoch 35/50\n",
      "4887/4887 [==============================] - 26s 5ms/step - loss: 0.2202 - acc: 0.9287 - val_loss: 0.2188 - val_acc: 0.9285\n",
      "Epoch 36/50\n",
      "4887/4887 [==============================] - 26s 5ms/step - loss: 0.2197 - acc: 0.9287 - val_loss: 0.2181 - val_acc: 0.9285\n",
      "Epoch 37/50\n",
      "4887/4887 [==============================] - 26s 5ms/step - loss: 0.2188 - acc: 0.9287 - val_loss: 0.2183 - val_acc: 0.9284\n",
      "Epoch 38/50\n",
      "4887/4887 [==============================] - 26s 5ms/step - loss: 0.2187 - acc: 0.9288 - val_loss: 0.2184 - val_acc: 0.9284\n",
      "Epoch 39/50\n",
      "4887/4887 [==============================] - 26s 5ms/step - loss: 0.2172 - acc: 0.9288 - val_loss: 0.2171 - val_acc: 0.9284\n",
      "Epoch 40/50\n",
      "4887/4887 [==============================] - 26s 5ms/step - loss: 0.2174 - acc: 0.9290 - val_loss: 0.2171 - val_acc: 0.9285\n",
      "Epoch 41/50\n",
      "4887/4887 [==============================] - 26s 5ms/step - loss: 0.2162 - acc: 0.9289 - val_loss: 0.2188 - val_acc: 0.9286\n",
      "Epoch 42/50\n",
      "4887/4887 [==============================] - 26s 5ms/step - loss: 0.2154 - acc: 0.9290 - val_loss: 0.2164 - val_acc: 0.9285\n",
      "Epoch 43/50\n",
      "4887/4887 [==============================] - 26s 5ms/step - loss: 0.2166 - acc: 0.9287 - val_loss: 0.2159 - val_acc: 0.9285\n",
      "Epoch 44/50\n",
      "4887/4887 [==============================] - 28s 6ms/step - loss: 0.2151 - acc: 0.9288 - val_loss: 0.2158 - val_acc: 0.9284\n",
      "Epoch 45/50\n",
      "4887/4887 [==============================] - 27s 6ms/step - loss: 0.2157 - acc: 0.9288 - val_loss: 0.2188 - val_acc: 0.9285\n",
      "Epoch 46/50\n",
      "4887/4887 [==============================] - 26s 5ms/step - loss: 0.2142 - acc: 0.9291 - val_loss: 0.2157 - val_acc: 0.9283\n",
      "Epoch 47/50\n",
      "4887/4887 [==============================] - 26s 5ms/step - loss: 0.2135 - acc: 0.9293 - val_loss: 0.2161 - val_acc: 0.9280\n",
      "Epoch 48/50\n",
      "4887/4887 [==============================] - 26s 5ms/step - loss: 0.2138 - acc: 0.9290 - val_loss: 0.2185 - val_acc: 0.9285\n",
      "Epoch 49/50\n",
      "4887/4887 [==============================] - 26s 5ms/step - loss: 0.2137 - acc: 0.9290 - val_loss: 0.2185 - val_acc: 0.9280\n",
      "Epoch 50/50\n",
      "4887/4887 [==============================] - 27s 6ms/step - loss: 0.2130 - acc: 0.9293 - val_loss: 0.2172 - val_acc: 0.9282\n"
     ]
    }
   ],
   "source": [
    "# Model Fit\n",
    "H4 = model4.fit(X4_train, y4_train, epochs=50, batch_size=100, verbose=1, validation_split=0.2)"
   ]
  },
  {
   "cell_type": "code",
   "execution_count": 26,
   "metadata": {},
   "outputs": [
    {
     "name": "stdout",
     "output_type": "stream",
     "text": [
      "The accuracy of the model: 0.8809560760855675\n",
      "3906/3906 [==============================] - 8s 2ms/step\n",
      "The score and accuracy of the model :  [0.21279142415499114, 0.9284616816489439]\n"
     ]
    }
   ],
   "source": [
    "# The test accuracy of the model built is 92.8%, with the predicted value against the test value hovering over 88%\n",
    "y4_pred = model4.predict(X4_test)\n",
    "print(\"The accuracy of the model:\", (1-np.mean(np.abs(y4_pred-y4_test))))\n",
    "print(\"The score and accuracy of the model : \", model4.evaluate(X4_test, y4_test))"
   ]
  },
  {
   "cell_type": "code",
   "execution_count": 27,
   "metadata": {},
   "outputs": [
    {
     "data": {
      "image/png": "[encoded data removed]",
      "text/plain": [
       "<Figure size 1080x360 with 2 Axes>"
      ]
     },
     "metadata": {
      "needs_background": "light"
     },
     "output_type": "display_data"
    }
   ],
   "source": [
    "import matplotlib.pyplot as plt\n",
    "plt.figure(figsize=(15,5))\n",
    "plt.subplot(1,2,1)\n",
    "plt.plot(H4.history[\"loss\"], label='train')\n",
    "plt.plot(H4.history[\"val_loss\"], label='validation')\n",
    "plt.xlabel('epochs')\n",
    "plt.ylabel('loss function')\n",
    "plt.legend(loc='upper left')\n",
    "plt.subplot(1,2,2)\n",
    "plt.plot(H4.history[\"acc\"], label='train')\n",
    "plt.plot(H4.history[\"val_acc\"], label='validation')\n",
    "plt.xlabel('epochs')\n",
    "plt.ylabel('accuracy function')\n",
    "plt.legend(loc='upper left')\n",
    "plt.show()"
   ]
  },
  {
   "cell_type": "markdown",
   "metadata": {},
   "source": [
    "#### The Fourth and final classification analysis would be on the \"dx of cancer\" variable and we apply the Convolutional Neural Network to find the best fit approach"
   ]
  },
  {
   "cell_type": "code",
   "execution_count": 28,
   "metadata": {},
   "outputs": [
    {
     "name": "stdout",
     "output_type": "stream",
     "text": [
      "(6109, 64, 64, 1) (3906, 64, 64, 1) (6109, 6) (3906, 6)\n"
     ]
    }
   ],
   "source": [
    "#Acquiring the training and the test dataset for the cancer dx modelling\n",
    "X1_train, X1_test, y1_train, y1_test = train_test_split(X, y1, test_size=0.39, random_state=42)\n",
    "print(X1_train.shape, X1_test.shape, y1_train.shape, y1_test.shape)"
   ]
  },
  {
   "cell_type": "code",
   "execution_count": 29,
   "metadata": {},
   "outputs": [],
   "source": [
    "#Building the layers of neural network to have dual convolutional layer, Maxpooling layer and 3 hidden layers.\n",
    "#The final approach is an binary classification of present or not of the 6 output variables.\n",
    "model1 = Sequential()\n",
    "model1.add(Conv2D(32, (3, 3), input_shape=(64, 64, 1), activation='relu'))\n",
    "model1.add(MaxPooling2D(pool_size=(2, 2)))\n",
    "model1.add(Conv2D(32, (3, 3), activation='relu'))\n",
    "model1.add(MaxPooling2D(pool_size=(2, 2)))\n",
    "model1.add(Flatten())\n",
    "\n",
    "model1.add(Dense(256, activation='relu'))\n",
    "model1.add(Dropout(0.1))\n",
    "model1.add(Dense(128, activation='relu'))\n",
    "model1.add(Dropout(0.1))\n",
    "model1.add(Dense(36, activation='relu'))\n",
    "model1.add(Dropout(0.1))\n",
    "model1.add(Dense(6, activation='sigmoid'))\n",
    "\n",
    "model1.compile(loss='binary_crossentropy', optimizer='adam', metrics=['accuracy'])"
   ]
  },
  {
   "cell_type": "code",
   "execution_count": 30,
   "metadata": {
    "scrolled": true
   },
   "outputs": [
    {
     "name": "stdout",
     "output_type": "stream",
     "text": [
      "Train on 4887 samples, validate on 1222 samples\n",
      "Epoch 1/50\n",
      "4887/4887 [==============================] - 29s 6ms/step - loss: 0.8828 - acc: 0.8682 - val_loss: 0.2907 - val_acc: 0.8905\n",
      "Epoch 2/50\n",
      "4887/4887 [==============================] - 27s 6ms/step - loss: 0.3010 - acc: 0.8884 - val_loss: 0.2877 - val_acc: 0.8906\n",
      "Epoch 3/50\n",
      "4887/4887 [==============================] - 27s 6ms/step - loss: 0.2955 - acc: 0.8898 - val_loss: 0.2826 - val_acc: 0.8905\n",
      "Epoch 4/50\n",
      "4887/4887 [==============================] - 27s 6ms/step - loss: 0.2833 - acc: 0.8934 - val_loss: 0.2758 - val_acc: 0.8932\n",
      "Epoch 5/50\n",
      "4887/4887 [==============================] - 27s 6ms/step - loss: 0.2773 - acc: 0.8951 - val_loss: 0.2736 - val_acc: 0.8955\n",
      "Epoch 6/50\n",
      "4887/4887 [==============================] - 27s 6ms/step - loss: 0.2729 - acc: 0.8969 - val_loss: 0.2686 - val_acc: 0.8951\n",
      "Epoch 7/50\n",
      "4887/4887 [==============================] - 27s 6ms/step - loss: 0.2721 - acc: 0.8973 - val_loss: 0.2702 - val_acc: 0.8946\n",
      "Epoch 8/50\n",
      "4887/4887 [==============================] - 27s 5ms/step - loss: 0.2703 - acc: 0.8968 - val_loss: 0.2769 - val_acc: 0.8929\n",
      "Epoch 9/50\n",
      "4887/4887 [==============================] - 27s 6ms/step - loss: 0.2637 - acc: 0.8983 - val_loss: 0.2994 - val_acc: 0.8935\n",
      "Epoch 10/50\n",
      "4887/4887 [==============================] - 27s 6ms/step - loss: 0.2652 - acc: 0.8973 - val_loss: 0.2644 - val_acc: 0.8962\n",
      "Epoch 11/50\n",
      "4887/4887 [==============================] - 28s 6ms/step - loss: 0.2593 - acc: 0.8994 - val_loss: 0.2622 - val_acc: 0.8966\n",
      "Epoch 12/50\n",
      "4887/4887 [==============================] - 27s 6ms/step - loss: 0.2581 - acc: 0.9009 - val_loss: 0.2609 - val_acc: 0.8981\n",
      "Epoch 13/50\n",
      "4887/4887 [==============================] - 27s 6ms/step - loss: 0.2590 - acc: 0.9005 - val_loss: 0.2605 - val_acc: 0.8988\n",
      "Epoch 14/50\n",
      "4887/4887 [==============================] - 27s 6ms/step - loss: 0.2563 - acc: 0.9002 - val_loss: 0.2613 - val_acc: 0.8989\n",
      "Epoch 15/50\n",
      "4887/4887 [==============================] - 27s 6ms/step - loss: 0.2520 - acc: 0.9012 - val_loss: 0.2682 - val_acc: 0.8976\n",
      "Epoch 16/50\n",
      "4887/4887 [==============================] - 27s 6ms/step - loss: 0.2531 - acc: 0.9016 - val_loss: 0.2584 - val_acc: 0.8985\n",
      "Epoch 17/50\n",
      "4887/4887 [==============================] - 27s 5ms/step - loss: 0.2466 - acc: 0.9041 - val_loss: 0.2657 - val_acc: 0.8996\n",
      "Epoch 18/50\n",
      "4887/4887 [==============================] - 27s 6ms/step - loss: 0.2580 - acc: 0.9007 - val_loss: 0.2725 - val_acc: 0.8962\n",
      "Epoch 19/50\n",
      "4887/4887 [==============================] - 27s 6ms/step - loss: 0.2571 - acc: 0.9000 - val_loss: 0.2587 - val_acc: 0.9004\n",
      "Epoch 20/50\n",
      "4887/4887 [==============================] - 27s 6ms/step - loss: 0.2451 - acc: 0.9035 - val_loss: 0.2673 - val_acc: 0.8983\n",
      "Epoch 21/50\n",
      "4887/4887 [==============================] - 27s 6ms/step - loss: 0.2429 - acc: 0.9051 - val_loss: 0.2575 - val_acc: 0.9028\n",
      "Epoch 22/50\n",
      "4887/4887 [==============================] - 27s 6ms/step - loss: 0.2377 - acc: 0.9064 - val_loss: 0.2670 - val_acc: 0.9000\n",
      "Epoch 23/50\n",
      "4887/4887 [==============================] - 27s 6ms/step - loss: 0.2366 - acc: 0.9071 - val_loss: 0.2628 - val_acc: 0.9013\n",
      "Epoch 24/50\n",
      "4887/4887 [==============================] - 27s 6ms/step - loss: 0.2391 - acc: 0.9062 - val_loss: 0.2614 - val_acc: 0.9018\n",
      "Epoch 25/50\n",
      "4887/4887 [==============================] - 27s 6ms/step - loss: 0.2398 - acc: 0.9074 - val_loss: 0.2861 - val_acc: 0.8978\n",
      "Epoch 26/50\n",
      "4887/4887 [==============================] - 27s 6ms/step - loss: 0.2343 - acc: 0.9082 - val_loss: 0.2662 - val_acc: 0.9015\n",
      "Epoch 27/50\n",
      "4887/4887 [==============================] - 28s 6ms/step - loss: 0.2315 - acc: 0.9095 - val_loss: 0.2739 - val_acc: 0.8974\n",
      "Epoch 28/50\n",
      "4887/4887 [==============================] - 27s 6ms/step - loss: 0.2278 - acc: 0.9111 - val_loss: 0.2693 - val_acc: 0.9014\n",
      "Epoch 29/50\n",
      "4887/4887 [==============================] - 27s 6ms/step - loss: 0.2243 - acc: 0.9123 - val_loss: 0.2639 - val_acc: 0.8984\n",
      "Epoch 30/50\n",
      "4887/4887 [==============================] - 27s 6ms/step - loss: 0.2185 - acc: 0.9142 - val_loss: 0.2693 - val_acc: 0.9013\n",
      "Epoch 31/50\n",
      "4887/4887 [==============================] - 28s 6ms/step - loss: 0.2190 - acc: 0.9153 - val_loss: 0.2852 - val_acc: 0.8928\n",
      "Epoch 32/50\n",
      "4887/4887 [==============================] - 27s 6ms/step - loss: 0.2209 - acc: 0.9154 - val_loss: 0.2919 - val_acc: 0.8940\n",
      "Epoch 33/50\n",
      "4887/4887 [==============================] - 27s 6ms/step - loss: 0.2182 - acc: 0.9151 - val_loss: 0.2883 - val_acc: 0.8977\n",
      "Epoch 34/50\n",
      "4887/4887 [==============================] - 27s 6ms/step - loss: 0.2124 - acc: 0.9175 - val_loss: 0.2834 - val_acc: 0.8977\n",
      "Epoch 35/50\n",
      "4887/4887 [==============================] - 27s 6ms/step - loss: 0.2080 - acc: 0.9188 - val_loss: 0.2896 - val_acc: 0.8970\n",
      "Epoch 36/50\n",
      "4887/4887 [==============================] - 27s 6ms/step - loss: 0.2072 - acc: 0.9201 - val_loss: 0.2928 - val_acc: 0.8968\n",
      "Epoch 37/50\n",
      "4887/4887 [==============================] - 27s 6ms/step - loss: 0.2041 - acc: 0.9216 - val_loss: 0.3011 - val_acc: 0.8985\n",
      "Epoch 38/50\n",
      "4887/4887 [==============================] - 27s 6ms/step - loss: 0.2005 - acc: 0.9218 - val_loss: 0.3017 - val_acc: 0.8947\n",
      "Epoch 39/50\n",
      "4887/4887 [==============================] - 27s 6ms/step - loss: 0.1956 - acc: 0.9242 - val_loss: 0.3097 - val_acc: 0.8950\n",
      "Epoch 40/50\n",
      "4887/4887 [==============================] - 27s 6ms/step - loss: 0.1971 - acc: 0.9240 - val_loss: 0.3165 - val_acc: 0.8976\n",
      "Epoch 41/50\n",
      "4887/4887 [==============================] - 27s 6ms/step - loss: 0.1918 - acc: 0.9260 - val_loss: 0.3165 - val_acc: 0.8957\n",
      "Epoch 42/50\n",
      "4887/4887 [==============================] - 28s 6ms/step - loss: 0.1876 - acc: 0.9265 - val_loss: 0.3378 - val_acc: 0.8932\n",
      "Epoch 43/50\n",
      "4887/4887 [==============================] - 27s 6ms/step - loss: 0.1882 - acc: 0.9282 - val_loss: 0.3210 - val_acc: 0.8935\n",
      "Epoch 44/50\n",
      "4887/4887 [==============================] - 28s 6ms/step - loss: 0.1819 - acc: 0.9304 - val_loss: 0.3146 - val_acc: 0.8973\n",
      "Epoch 45/50\n",
      "4887/4887 [==============================] - 27s 6ms/step - loss: 0.1880 - acc: 0.9284 - val_loss: 0.3367 - val_acc: 0.8917\n",
      "Epoch 46/50\n",
      "4887/4887 [==============================] - 27s 6ms/step - loss: 0.1788 - acc: 0.9324 - val_loss: 0.3540 - val_acc: 0.8946\n",
      "Epoch 47/50\n",
      "4887/4887 [==============================] - 28s 6ms/step - loss: 0.1821 - acc: 0.9320 - val_loss: 0.3538 - val_acc: 0.8916\n",
      "Epoch 48/50\n",
      "4887/4887 [==============================] - 30s 6ms/step - loss: 0.1724 - acc: 0.9344 - val_loss: 0.3333 - val_acc: 0.8943\n",
      "Epoch 49/50\n",
      "4887/4887 [==============================] - 28s 6ms/step - loss: 0.1675 - acc: 0.9366 - val_loss: 0.3372 - val_acc: 0.8983\n",
      "Epoch 50/50\n",
      "4887/4887 [==============================] - 30s 6ms/step - loss: 0.1716 - acc: 0.9362 - val_loss: 0.3691 - val_acc: 0.8929\n"
     ]
    }
   ],
   "source": [
    "# Model Fit\n",
    "H1 = model1.fit(X1_train, y1_train, epochs=50, batch_size=100, verbose=1, validation_split=0.2)"
   ]
  },
  {
   "cell_type": "code",
   "execution_count": 31,
   "metadata": {},
   "outputs": [
    {
     "name": "stdout",
     "output_type": "stream",
     "text": [
      "The accuracy of the model: 0.8727651834487915\n",
      "3906/3906 [==============================] - 8s 2ms/step\n",
      "The score and accuracy of the model :  [0.3510901414155264, 0.8936252037317889]\n"
     ]
    }
   ],
   "source": [
    "# The test accuracy of the model built is 89.4%, with the predicted value against the test value hovering over 87%\n",
    "y1_pred = model1.predict(X1_test)\n",
    "print(\"The accuracy of the model:\", (1-np.mean(np.abs(y1_pred-y1_test))))\n",
    "print(\"The score and accuracy of the model : \", model1.evaluate(X1_test, y1_test))"
   ]
  },
  {
   "cell_type": "code",
   "execution_count": 32,
   "metadata": {},
   "outputs": [
    {
     "data": {
      "image/png": "[encoded data removed]",
      "text/plain": [
       "<Figure size 1080x360 with 2 Axes>"
      ]
     },
     "metadata": {
      "needs_background": "light"
     },
     "output_type": "display_data"
    }
   ],
   "source": [
    "import matplotlib.pyplot as plt\n",
    "plt.figure(figsize=(15,5))\n",
    "plt.subplot(1,2,1)\n",
    "plt.plot(H1.history[\"loss\"], label='train')\n",
    "plt.plot(H1.history[\"val_loss\"], label='validation')\n",
    "plt.xlabel('epochs')\n",
    "plt.ylabel('loss function')\n",
    "plt.legend(loc='upper left')\n",
    "plt.subplot(1,2,2)\n",
    "plt.plot(H1.history[\"acc\"], label='train')\n",
    "plt.plot(H1.history[\"val_acc\"], label='validation')\n",
    "plt.xlabel('epochs')\n",
    "plt.ylabel('accuracy function')\n",
    "plt.legend(loc='upper left')\n",
    "plt.show()"
   ]
  },
  {
   "cell_type": "markdown",
   "metadata": {},
   "source": [
    "#### The next analysis would be on the \"age prediction\" variable and we apply the Convolutional Neural Network to find the best fit approach"
   ]
  },
  {
   "cell_type": "code",
   "execution_count": 33,
   "metadata": {},
   "outputs": [
    {
     "name": "stdout",
     "output_type": "stream",
     "text": [
      "(6109, 64, 64, 1) (3906, 64, 64, 1) (6109,) (3906,)\n"
     ]
    }
   ],
   "source": [
    "#Acquiring the training and the test dataset for the cancer patients age modelling\n",
    "X5_train, X5_test, y5_train, y5_test = train_test_split(X, y5, test_size=0.39, random_state=42)\n",
    "print(X5_train.shape, X5_test.shape, y5_train.shape, y5_test.shape)"
   ]
  },
  {
   "cell_type": "code",
   "execution_count": 34,
   "metadata": {},
   "outputs": [],
   "source": [
    "#Building the layers of neural network to have dual convolutional layer, Maxpooling layer and 4 hidden layers.\n",
    "#The final approach is an prediction modelling the age of cancer patients.\n",
    "model5 = Sequential()\n",
    "model5.add(Conv2D(32, (3, 3), input_shape=(64, 64, 1), activation='relu'))\n",
    "model5.add(MaxPooling2D(pool_size=(2, 2)))\n",
    "model5.add(Conv2D(32, (3, 3), activation='relu'))\n",
    "model5.add(MaxPooling2D(pool_size=(2, 2)))\n",
    "model5.add(Flatten())\n",
    "\n",
    "model5.add(Dense(729, activation='relu'))\n",
    "model5.add(Dropout(0.1))\n",
    "model5.add(Dense(500, activation='relu'))\n",
    "model5.add(Dropout(0.1))\n",
    "model5.add(Dense(81, activation='relu'))\n",
    "model5.add(Dropout(0.1))\n",
    "model5.add(Dense(9, activation='relu'))\n",
    "model5.add(Dropout(0.1))\n",
    "model5.add(Dense(1, activation='linear'))\n",
    "\n",
    "model5.compile(loss='mean_squared_error', optimizer='adam', metrics=['mse', 'mae'])"
   ]
  },
  {
   "cell_type": "code",
   "execution_count": 35,
   "metadata": {
    "scrolled": true
   },
   "outputs": [
    {
     "name": "stdout",
     "output_type": "stream",
     "text": [
      "Train on 4887 samples, validate on 1222 samples\n",
      "Epoch 1/50\n",
      "4887/4887 [==============================] - 34s 7ms/step - loss: 16017.9507 - mean_squared_error: 16017.9507 - mean_absolute_error: 42.1344 - val_loss: 427.8032 - val_mean_squared_error: 427.8032 - val_mean_absolute_error: 16.4041\n",
      "Epoch 2/50\n",
      "4887/4887 [==============================] - 32s 6ms/step - loss: 522.4776 - mean_squared_error: 522.4776 - mean_absolute_error: 18.2366 - val_loss: 349.0104 - val_mean_squared_error: 349.0104 - val_mean_absolute_error: 14.7083\n",
      "Epoch 3/50\n",
      "4887/4887 [==============================] - 32s 7ms/step - loss: 490.6953 - mean_squared_error: 490.6953 - mean_absolute_error: 17.6641 - val_loss: 365.3966 - val_mean_squared_error: 365.3966 - val_mean_absolute_error: 15.1088\n",
      "Epoch 4/50\n",
      "4887/4887 [==============================] - 32s 7ms/step - loss: 478.7203 - mean_squared_error: 478.7203 - mean_absolute_error: 17.2329 - val_loss: 353.2469 - val_mean_squared_error: 353.2469 - val_mean_absolute_error: 14.7842\n",
      "Epoch 5/50\n",
      "4887/4887 [==============================] - 32s 6ms/step - loss: 455.8174 - mean_squared_error: 455.8174 - mean_absolute_error: 16.9517 - val_loss: 368.4825 - val_mean_squared_error: 368.4825 - val_mean_absolute_error: 15.1526\n",
      "Epoch 6/50\n",
      "4887/4887 [==============================] - 32s 6ms/step - loss: 424.4363 - mean_squared_error: 424.4363 - mean_absolute_error: 16.3518 - val_loss: 379.0370 - val_mean_squared_error: 379.0370 - val_mean_absolute_error: 15.4814\n",
      "Epoch 7/50\n",
      "4887/4887 [==============================] - 32s 7ms/step - loss: 421.2242 - mean_squared_error: 421.2242 - mean_absolute_error: 16.2663 - val_loss: 352.4165 - val_mean_squared_error: 352.4165 - val_mean_absolute_error: 14.8062\n",
      "Epoch 8/50\n",
      "4887/4887 [==============================] - 32s 7ms/step - loss: 417.8886 - mean_squared_error: 417.8886 - mean_absolute_error: 16.1310 - val_loss: 361.6696 - val_mean_squared_error: 361.6696 - val_mean_absolute_error: 15.0106\n",
      "Epoch 9/50\n",
      "4887/4887 [==============================] - 32s 7ms/step - loss: 405.0876 - mean_squared_error: 405.0876 - mean_absolute_error: 16.0019 - val_loss: 341.8930 - val_mean_squared_error: 341.8930 - val_mean_absolute_error: 14.4852\n",
      "Epoch 10/50\n",
      "4887/4887 [==============================] - 32s 6ms/step - loss: 426.8342 - mean_squared_error: 426.8342 - mean_absolute_error: 16.2824 - val_loss: 333.0601 - val_mean_squared_error: 333.0601 - val_mean_absolute_error: 14.2575\n",
      "Epoch 11/50\n",
      "4887/4887 [==============================] - 32s 7ms/step - loss: 409.8423 - mean_squared_error: 409.8423 - mean_absolute_error: 15.9542 - val_loss: 327.7630 - val_mean_squared_error: 327.7630 - val_mean_absolute_error: 14.0742\n",
      "Epoch 12/50\n",
      "4887/4887 [==============================] - 34s 7ms/step - loss: 398.1021 - mean_squared_error: 398.1021 - mean_absolute_error: 15.7229 - val_loss: 345.3799 - val_mean_squared_error: 345.3799 - val_mean_absolute_error: 14.6230\n",
      "Epoch 13/50\n",
      "4887/4887 [==============================] - 34s 7ms/step - loss: 391.3046 - mean_squared_error: 391.3046 - mean_absolute_error: 15.6385 - val_loss: 427.6133 - val_mean_squared_error: 427.6133 - val_mean_absolute_error: 16.5844\n",
      "Epoch 14/50\n",
      "4887/4887 [==============================] - 33s 7ms/step - loss: 397.5426 - mean_squared_error: 397.5426 - mean_absolute_error: 15.7196 - val_loss: 436.0092 - val_mean_squared_error: 436.0092 - val_mean_absolute_error: 16.8066\n",
      "Epoch 15/50\n",
      "4887/4887 [==============================] - 34s 7ms/step - loss: 395.3347 - mean_squared_error: 395.3347 - mean_absolute_error: 15.7511 - val_loss: 473.5809 - val_mean_squared_error: 473.5809 - val_mean_absolute_error: 17.5131\n",
      "Epoch 16/50\n",
      "4887/4887 [==============================] - 33s 7ms/step - loss: 419.5395 - mean_squared_error: 419.5395 - mean_absolute_error: 16.2757 - val_loss: 324.6810 - val_mean_squared_error: 324.6810 - val_mean_absolute_error: 13.9532\n",
      "Epoch 17/50\n",
      "4887/4887 [==============================] - 32s 7ms/step - loss: 395.6590 - mean_squared_error: 395.6590 - mean_absolute_error: 15.7114 - val_loss: 439.1224 - val_mean_squared_error: 439.1224 - val_mean_absolute_error: 16.7794\n",
      "Epoch 18/50\n",
      "4887/4887 [==============================] - 32s 7ms/step - loss: 379.2352 - mean_squared_error: 379.2352 - mean_absolute_error: 15.3525 - val_loss: 378.0656 - val_mean_squared_error: 378.0656 - val_mean_absolute_error: 15.4841\n",
      "Epoch 19/50\n",
      "4887/4887 [==============================] - 32s 7ms/step - loss: 383.6973 - mean_squared_error: 383.6973 - mean_absolute_error: 15.4616 - val_loss: 331.1835 - val_mean_squared_error: 331.1835 - val_mean_absolute_error: 14.1593\n",
      "Epoch 20/50\n",
      "4887/4887 [==============================] - 34s 7ms/step - loss: 373.5923 - mean_squared_error: 373.5923 - mean_absolute_error: 15.2112 - val_loss: 329.7035 - val_mean_squared_error: 329.7035 - val_mean_absolute_error: 14.1338\n",
      "Epoch 21/50\n",
      "4887/4887 [==============================] - 40s 8ms/step - loss: 376.4060 - mean_squared_error: 376.4060 - mean_absolute_error: 15.2554 - val_loss: 352.7270 - val_mean_squared_error: 352.7270 - val_mean_absolute_error: 14.8290\n",
      "Epoch 22/50\n",
      "4887/4887 [==============================] - 40s 8ms/step - loss: 387.0415 - mean_squared_error: 387.0415 - mean_absolute_error: 15.5709 - val_loss: 327.2892 - val_mean_squared_error: 327.2892 - val_mean_absolute_error: 13.9663\n",
      "Epoch 23/50\n",
      "4887/4887 [==============================] - 40s 8ms/step - loss: 369.3691 - mean_squared_error: 369.3691 - mean_absolute_error: 15.1254 - val_loss: 333.7241 - val_mean_squared_error: 333.7241 - val_mean_absolute_error: 14.0199\n",
      "Epoch 24/50\n",
      "4887/4887 [==============================] - 40s 8ms/step - loss: 389.1525 - mean_squared_error: 389.1525 - mean_absolute_error: 15.6072 - val_loss: 356.7765 - val_mean_squared_error: 356.7765 - val_mean_absolute_error: 14.9170\n",
      "Epoch 25/50\n",
      "4887/4887 [==============================] - 40s 8ms/step - loss: 371.8194 - mean_squared_error: 371.8194 - mean_absolute_error: 15.1172 - val_loss: 336.8941 - val_mean_squared_error: 336.8941 - val_mean_absolute_error: 14.4060\n",
      "Epoch 26/50\n",
      "4887/4887 [==============================] - 40s 8ms/step - loss: 378.6787 - mean_squared_error: 378.6787 - mean_absolute_error: 15.3781 - val_loss: 327.7456 - val_mean_squared_error: 327.7456 - val_mean_absolute_error: 14.0481\n",
      "Epoch 27/50\n",
      "4887/4887 [==============================] - 40s 8ms/step - loss: 351.3660 - mean_squared_error: 351.3660 - mean_absolute_error: 14.7128 - val_loss: 331.6293 - val_mean_squared_error: 331.6293 - val_mean_absolute_error: 14.1502\n",
      "Epoch 28/50\n",
      "4887/4887 [==============================] - 40s 8ms/step - loss: 389.5968 - mean_squared_error: 389.5968 - mean_absolute_error: 15.5895 - val_loss: 378.9311 - val_mean_squared_error: 378.9311 - val_mean_absolute_error: 15.5306\n",
      "Epoch 29/50\n",
      "4887/4887 [==============================] - 40s 8ms/step - loss: 378.3401 - mean_squared_error: 378.3401 - mean_absolute_error: 15.3131 - val_loss: 494.8365 - val_mean_squared_error: 494.8365 - val_mean_absolute_error: 18.0792\n",
      "Epoch 30/50\n",
      "4887/4887 [==============================] - 40s 8ms/step - loss: 352.1676 - mean_squared_error: 352.1676 - mean_absolute_error: 14.8062 - val_loss: 345.9048 - val_mean_squared_error: 345.9048 - val_mean_absolute_error: 14.6037\n",
      "Epoch 31/50\n",
      "4887/4887 [==============================] - 40s 8ms/step - loss: 350.7235 - mean_squared_error: 350.7235 - mean_absolute_error: 14.7811 - val_loss: 437.4837 - val_mean_squared_error: 437.4837 - val_mean_absolute_error: 16.8039\n",
      "Epoch 32/50\n",
      "4887/4887 [==============================] - 40s 8ms/step - loss: 364.9251 - mean_squared_error: 364.9251 - mean_absolute_error: 15.1148 - val_loss: 347.4149 - val_mean_squared_error: 347.4149 - val_mean_absolute_error: 14.4811\n",
      "Epoch 33/50\n",
      "4887/4887 [==============================] - 40s 8ms/step - loss: 378.9824 - mean_squared_error: 378.9824 - mean_absolute_error: 15.4271 - val_loss: 475.9212 - val_mean_squared_error: 475.9212 - val_mean_absolute_error: 17.6667\n",
      "Epoch 34/50\n",
      "4887/4887 [==============================] - 40s 8ms/step - loss: 357.3230 - mean_squared_error: 357.3230 - mean_absolute_error: 14.9314 - val_loss: 336.2667 - val_mean_squared_error: 336.2667 - val_mean_absolute_error: 14.2479\n"
     ]
    },
    {
     "name": "stdout",
     "output_type": "stream",
     "text": [
      "Epoch 35/50\n",
      "4887/4887 [==============================] - 40s 8ms/step - loss: 349.9545 - mean_squared_error: 349.9545 - mean_absolute_error: 14.6451 - val_loss: 378.4804 - val_mean_squared_error: 378.4804 - val_mean_absolute_error: 15.4050\n",
      "Epoch 36/50\n",
      "4887/4887 [==============================] - 40s 8ms/step - loss: 346.6180 - mean_squared_error: 346.6180 - mean_absolute_error: 14.7076 - val_loss: 387.4726 - val_mean_squared_error: 387.4726 - val_mean_absolute_error: 15.7045\n",
      "Epoch 37/50\n",
      "4887/4887 [==============================] - 40s 8ms/step - loss: 343.5284 - mean_squared_error: 343.5284 - mean_absolute_error: 14.7291 - val_loss: 333.5444 - val_mean_squared_error: 333.5444 - val_mean_absolute_error: 14.1860\n",
      "Epoch 38/50\n",
      "4887/4887 [==============================] - 40s 8ms/step - loss: 373.3959 - mean_squared_error: 373.3959 - mean_absolute_error: 15.2592 - val_loss: 456.9160 - val_mean_squared_error: 456.9160 - val_mean_absolute_error: 17.2200\n",
      "Epoch 39/50\n",
      "4887/4887 [==============================] - 43s 9ms/step - loss: 353.4508 - mean_squared_error: 353.4508 - mean_absolute_error: 14.8095 - val_loss: 354.3957 - val_mean_squared_error: 354.3957 - val_mean_absolute_error: 14.6861\n",
      "Epoch 40/50\n",
      "4887/4887 [==============================] - 40s 8ms/step - loss: 341.3642 - mean_squared_error: 341.3642 - mean_absolute_error: 14.6436 - val_loss: 335.3282 - val_mean_squared_error: 335.3282 - val_mean_absolute_error: 14.1800\n",
      "Epoch 41/50\n",
      "4887/4887 [==============================] - 40s 8ms/step - loss: 355.2518 - mean_squared_error: 355.2518 - mean_absolute_error: 14.8610 - val_loss: 343.6367 - val_mean_squared_error: 343.6367 - val_mean_absolute_error: 14.4310\n",
      "Epoch 42/50\n",
      "4887/4887 [==============================] - 40s 8ms/step - loss: 358.2744 - mean_squared_error: 358.2744 - mean_absolute_error: 14.8593 - val_loss: 378.7087 - val_mean_squared_error: 378.7087 - val_mean_absolute_error: 15.4770\n",
      "Epoch 43/50\n",
      "4887/4887 [==============================] - 41s 8ms/step - loss: 349.1998 - mean_squared_error: 349.1998 - mean_absolute_error: 14.7732 - val_loss: 341.2124 - val_mean_squared_error: 341.2124 - val_mean_absolute_error: 14.2517\n",
      "Epoch 44/50\n",
      "4887/4887 [==============================] - 40s 8ms/step - loss: 349.7231 - mean_squared_error: 349.7231 - mean_absolute_error: 14.7269 - val_loss: 363.0683 - val_mean_squared_error: 363.0683 - val_mean_absolute_error: 14.8905\n",
      "Epoch 45/50\n",
      "4887/4887 [==============================] - 39s 8ms/step - loss: 336.0396 - mean_squared_error: 336.0396 - mean_absolute_error: 14.4958 - val_loss: 376.0837 - val_mean_squared_error: 376.0837 - val_mean_absolute_error: 15.1338\n",
      "Epoch 46/50\n",
      "4887/4887 [==============================] - 40s 8ms/step - loss: 357.4959 - mean_squared_error: 357.4959 - mean_absolute_error: 14.9240 - val_loss: 381.6535 - val_mean_squared_error: 381.6535 - val_mean_absolute_error: 15.4759\n",
      "Epoch 47/50\n",
      "4887/4887 [==============================] - 40s 8ms/step - loss: 333.4198 - mean_squared_error: 333.4198 - mean_absolute_error: 14.4050 - val_loss: 342.6965 - val_mean_squared_error: 342.6965 - val_mean_absolute_error: 14.3956\n",
      "Epoch 48/50\n",
      "4887/4887 [==============================] - 41s 8ms/step - loss: 327.2406 - mean_squared_error: 327.2406 - mean_absolute_error: 14.1751 - val_loss: 401.2449 - val_mean_squared_error: 401.2449 - val_mean_absolute_error: 15.9388\n",
      "Epoch 49/50\n",
      "4887/4887 [==============================] - 43s 9ms/step - loss: 328.5936 - mean_squared_error: 328.5936 - mean_absolute_error: 14.2505 - val_loss: 353.3635 - val_mean_squared_error: 353.3635 - val_mean_absolute_error: 14.7778\n",
      "Epoch 50/50\n",
      "4887/4887 [==============================] - 41s 8ms/step - loss: 361.3751 - mean_squared_error: 361.3751 - mean_absolute_error: 15.0955 - val_loss: 405.8554 - val_mean_squared_error: 405.8554 - val_mean_absolute_error: 16.0520\n"
     ]
    }
   ],
   "source": [
    "# Model Fit\n",
    "H5 = model5.fit(X5_train, y5_train, epochs=50, batch_size=100, verbose=1, validation_split=0.2)"
   ]
  },
  {
   "cell_type": "code",
   "execution_count": 37,
   "metadata": {},
   "outputs": [
    {
     "name": "stderr",
     "output_type": "stream",
     "text": [
      "C:\\Users\\Lokesh\\Anaconda3\\lib\\site-packages\\ipykernel_launcher.py:2: RuntimeWarning: divide by zero encountered in true_divide\n",
      "  \n"
     ]
    },
    {
     "name": "stdout",
     "output_type": "stream",
     "text": [
      "The accuracy of the model: -inf\n",
      "3906/3906 [==============================] - 10s 3ms/step\n",
      "The score and accuracy of the model :  [358.6128392060842, 358.6128392060842, 15.059877225697132]\n"
     ]
    }
   ],
   "source": [
    "y5_pred = model5.predict(X5_test)\n",
    "print(\"The accuracy of the model:\", (1-np.mean(np.abs(1-y5_pred+1/y5_test+1))))\n",
    "print(\"The score and accuracy of the model : \", model5.evaluate(X5_test, y5_test))"
   ]
  },
  {
   "cell_type": "code",
   "execution_count": 39,
   "metadata": {},
   "outputs": [
    {
     "data": {
      "image/png": "[encoded data removed]",
      "text/plain": [
       "<Figure size 1080x360 with 2 Axes>"
      ]
     },
     "metadata": {
      "needs_background": "light"
     },
     "output_type": "display_data"
    }
   ],
   "source": [
    "import matplotlib.pyplot as plt\n",
    "plt.figure(figsize=(15,5))\n",
    "plt.subplot(1,2,1)\n",
    "plt.plot(H5.history[\"mean_squared_error\"], label='train')\n",
    "plt.plot(H5.history[\"val_mean_squared_error\"], label='validation')\n",
    "plt.xlabel('epochs')\n",
    "plt.ylabel('mean squared error function')\n",
    "plt.legend(loc='upper left')\n",
    "plt.subplot(1,2,2)\n",
    "plt.plot(H5.history[\"mean_absolute_error\"], label='train')\n",
    "plt.plot(H5.history[\"val_mean_absolute_error\"], label='validation')\n",
    "plt.xlabel('epochs')\n",
    "plt.ylabel('absolute error function')\n",
    "plt.legend(loc='upper left')\n",
    "plt.show()"
   ]
  },
  {
   "cell_type": "code",
   "execution_count": null,
   "metadata": {},
   "outputs": [],
   "source": []
  }
 ],
 "metadata": {
  "kernelspec": {
   "display_name": "Python 3",
   "language": "python",
   "name": "python3"
  },
  "language_info": {
   "codemirror_mode": {
    "name": "ipython",
    "version": 3
   },
   "file_extension": ".py",
   "mimetype": "text/x-python",
   "name": "python",
   "nbconvert_exporter": "python",
   "pygments_lexer": "ipython3",
   "version": "3.6.8"
  }
 },
 "nbformat": 4,
 "nbformat_minor": 2
}
